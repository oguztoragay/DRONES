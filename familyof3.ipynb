{
 "cells": [
  {
   "cell_type": "code",
   "execution_count": 1,
   "metadata": {
    "ExecuteTime": {
     "end_time": "2024-01-12T02:50:22.759501600Z",
     "start_time": "2024-01-12T02:49:55.369215200Z"
    }
   },
   "outputs": [
    {
     "name": "stdout",
     "output_type": "stream",
     "text": [
      "Requirement already satisfied: pulp in c:\\users\\otoragay\\appdata\\local\\miniconda3\\envs\\amenv\\lib\\site-packages (2.7.0)\n",
      "Note: you may need to restart the kernel to use updated packages.\n",
      "Collecting package metadata (current_repodata.json): ...working... done\n",
      "Solving environment: ...working... done\n",
      "\n",
      "## Package Plan ##\n",
      "\n",
      "  environment location: C:\\Users\\otoragay\\AppData\\Local\\miniconda3\\envs\\AMenv\n",
      "\n",
      "  added / updated specs:\n",
      "    - numpy\n",
      "    - pandas\n",
      "    - seaborn\n",
      "\n",
      "\n",
      "The following packages will be downloaded:\n",
      "\n",
      "    package                    |            build\n",
      "    ---------------------------|-----------------\n",
      "    pandas-1.5.3               |   py38hf11a4ad_0        10.5 MB\n",
      "    seaborn-0.12.2             |   py38haa95532_0         491 KB\n",
      "    ------------------------------------------------------------\n",
      "                                           Total:        11.0 MB\n",
      "\n",
      "The following NEW packages will be INSTALLED:\n",
      "\n",
      "  seaborn            pkgs/main/win-64::seaborn-0.12.2-py38haa95532_0 \n",
      "\n",
      "The following packages will be UPDATED:\n",
      "\n",
      "  pandas                               1.4.2-py38hd77b12b_0 --> 1.5.3-py38hf11a4ad_0 \n",
      "\n",
      "\n",
      "\n",
      "Downloading and Extracting Packages: ...working... done\n",
      "Preparing transaction: ...working... done\n",
      "Verifying transaction: ...working... done\n",
      "Executing transaction: ...working... done\n",
      "\n",
      "Note: you may need to restart the kernel to use updated packages.\n"
     ]
    },
    {
     "name": "stderr",
     "output_type": "stream",
     "text": [
      "\n",
      "\n",
      "==> WARNING: A newer version of conda exists. <==\n",
      "  current version: 23.9.0\n",
      "  latest version: 23.11.0\n",
      "\n",
      "Please update conda by running\n",
      "\n",
      "    $ conda update -n base -c defaults conda\n",
      "\n",
      "Or to minimize the number of packages updated during conda update use\n",
      "\n",
      "     conda install conda=23.11.0\n",
      "\n",
      "\n"
     ]
    }
   ],
   "source": [
    "# Add % to work within conda environment\n",
    "%pip install pulp\n",
    "%conda install --yes numpy pandas seaborn"
   ]
  },
  {
   "cell_type": "markdown",
   "metadata": {},
   "source": [
    "Youngsu: After installing the packages, be sure to restart your kernel by pressing the circular icon above.\n",
    "---"
   ]
  },
  {
   "cell_type": "code",
   "execution_count": 2,
   "metadata": {
    "ExecuteTime": {
     "end_time": "2024-01-12T02:50:25.845530800Z",
     "start_time": "2024-01-12T02:50:22.751770200Z"
    }
   },
   "outputs": [],
   "source": [
    "from pulp import *\n",
    "import numpy as np\n",
    "import pandas as pd \n",
    "import seaborn as sns"
   ]
  },
  {
   "cell_type": "code",
   "execution_count": 3,
   "metadata": {
    "ExecuteTime": {
     "end_time": "2024-01-12T02:50:25.867600900Z",
     "start_time": "2024-01-12T02:50:25.851093700Z"
    }
   },
   "outputs": [],
   "source": [
    "n_demandnode = 9 # plus depot = 6  Max visit numbers for each location:\n",
    "family0 = 1\n",
    "family1 = np.array([2,3,4])\n",
    "family2 = np.array([5,6,7])\n",
    "family3 = np.array([8,9])\n",
    "\n",
    "#n_chargingstation = 1\n",
    "n_drones = 2\n",
    "n_slot = 7 ############ 7 before\n",
    "monitor_time_matrix = np.array([3, 2, 2, 2, 1, 1, 1, 1, 1]) #Pj #[2, 1, 2, 3, 4, 5, 5]\n",
    "Traveltime_demandnodes_matrix = np.array([[0,3,3,3,4,4,4,1,1 ],[3,0,0,0,1,1,1,2,2],[3,0,0,0,1,1,1,2,2],[3,0,0,0,1,1,1,2,2],[4,1,1,1,0,0,0,3,3],[4,1,1,1,0,0,0,3,3],[4,1,1,1,0,0,0,3,3],[1,2,2,2,3,3,3,0,0],[1,2,2,2,3,3,3,0,0]]) #Sjk\n",
    "#max_intervisit_time_matrix = np.array([24, 5, 5, 5, 5]) #depot due date should be a large number.\n",
    "B = 10000\n",
    "#UB = 24 # upper bound of dj for Z\n",
    "#LB = 0 # lower bound of dj for Z\n",
    "due_dates = np.array([0, 24, 24, 24, 24, 24, 24, 5, 10]) #dj\n",
    "Drone_Charge = 7 #8 before\n",
    "UB = 1000 # upper bound of C \n",
    "intervisit_time = 5 # 5 before MAX\n",
    "# Try to keep the scale of Traveltime_demandnodes_matrix and intervisit_time compatable! \n",
    "# if drone visits a location at time 1 it should visit the same location by the time 6 at least once. check! YES"
   ]
  },
  {
   "cell_type": "code",
   "execution_count": 4,
   "metadata": {
    "ExecuteTime": {
     "end_time": "2024-01-12T02:50:25.892199600Z",
     "start_time": "2024-01-12T02:50:25.862615800Z"
    }
   },
   "outputs": [
    {
     "name": "stdout",
     "output_type": "stream",
     "text": [
      "2\n",
      "3\n",
      "4\n"
     ]
    }
   ],
   "source": [
    "for i in family1:\n",
    "    print(i)"
   ]
  },
  {
   "cell_type": "code",
   "execution_count": 5,
   "metadata": {
    "ExecuteTime": {
     "end_time": "2024-01-12T02:50:25.906930200Z",
     "start_time": "2024-01-12T02:50:25.878603800Z"
    }
   },
   "outputs": [
    {
     "name": "stderr",
     "output_type": "stream",
     "text": [
      "C:\\Users\\otoragay\\AppData\\Local\\miniconda3\\envs\\AMenv\\lib\\site-packages\\pulp\\pulp.py:1352: UserWarning: Spaces are not permitted in the name. Converted to '_'\n",
      "  warnings.warn(\"Spaces are not permitted in the name. Converted to '_'\")\n"
     ]
    }
   ],
   "source": [
    "model = LpProblem(\"Parallel machines\",LpMinimize)"
   ]
  },
  {
   "cell_type": "code",
   "execution_count": 6,
   "metadata": {
    "ExecuteTime": {
     "end_time": "2024-01-12T02:50:25.944535200Z",
     "start_time": "2024-01-12T02:50:25.893224600Z"
    }
   },
   "outputs": [],
   "source": [
    "Xjri_names = [str(j)+str(r)+str(i) for j in range(1, n_demandnode+1) for r in range (1, n_slot+1) for i in range (1, n_drones+1)]\n",
    "#if customer j is assigned to the r slot of the drone i\n",
    "#print(\"Xjri Indices:\", Xjri_names)"
   ]
  },
  {
   "cell_type": "code",
   "execution_count": 7,
   "metadata": {
    "ExecuteTime": {
     "end_time": "2024-01-12T02:50:25.946837600Z",
     "start_time": "2024-01-12T02:50:25.909143800Z"
    }
   },
   "outputs": [],
   "source": [
    "Yjkri_names = [str(j)+str(k)+str(r)+str(i) for j in range(1, n_demandnode+1) for k in range (1, n_demandnode+1) for r in range (1, n_slot+1) for i in range (1, n_drones+1)]\n",
    "# if customer j is assigned to the r slot and customer k is assigned to r-1 slot of drone i\n",
    "#print(\"Yjkri Indices:\", Yjkri_names)"
   ]
  },
  {
   "cell_type": "code",
   "execution_count": 8,
   "metadata": {
    "ExecuteTime": {
     "end_time": "2024-01-12T02:50:25.964316Z",
     "start_time": "2024-01-12T02:50:25.925519Z"
    }
   },
   "outputs": [],
   "source": [
    "Cri_names = [str(r)+str(i) for r in range (1, n_slot+1) for i in range (1, n_drones+1)]\n",
    "#The Completion time of the monitoring customer on the r slot of the drone i\n",
    "#print(\"Cri Indices:\", Cri_names)"
   ]
  },
  {
   "cell_type": "code",
   "execution_count": 9,
   "metadata": {
    "ExecuteTime": {
     "end_time": "2024-01-12T02:50:26.000702100Z",
     "start_time": "2024-01-12T02:50:25.940313300Z"
    }
   },
   "outputs": [],
   "source": [
    "Zri_names = [str(r)+str(i) for r in range (1, n_slot+1) for i in range (1, n_drones+1)]\n",
    "#The Completion time of the monitoring customer on the r slot of the drone i\n",
    "#print(\"Zri Indices:\", Zri_names)"
   ]
  },
  {
   "cell_type": "code",
   "execution_count": 10,
   "metadata": {
    "ExecuteTime": {
     "end_time": "2024-01-12T02:50:26.005040400Z",
     "start_time": "2024-01-12T02:50:25.955697700Z"
    }
   },
   "outputs": [],
   "source": [
    "Wri_names = [str(r)+str(i) for r in range (1, n_slot+1) for i in range (1, n_drones+1)]\n",
    "#The Completion time of the monitoring customer on the r slot of the drone i\n",
    "#print(\"Zri Indices:\", Zri_names)"
   ]
  },
  {
   "cell_type": "code",
   "execution_count": 11,
   "metadata": {
    "ExecuteTime": {
     "end_time": "2024-01-12T02:50:26.018816300Z",
     "start_time": "2024-01-12T02:50:25.971023800Z"
    }
   },
   "outputs": [],
   "source": [
    "Vjri_names = [str(j)+str(r)+str(i) for j in range(1, n_demandnode+1) for r in range (1, n_slot+1) for i in range (1, n_drones+1)]\n",
    "# Replacement for CriXjri\n",
    "#print(\"Vjri Indices:\", Vjri_names)"
   ]
  },
  {
   "cell_type": "code",
   "execution_count": 12,
   "metadata": {
    "ExecuteTime": {
     "end_time": "2024-01-12T02:50:26.021004100Z",
     "start_time": "2024-01-12T02:50:25.990968300Z"
    }
   },
   "outputs": [],
   "source": [
    "X = LpVariable.matrix(\"X\", Xjri_names, cat = \"Binary\")\n",
    "allocation1 = np.array(X).reshape(n_demandnode,n_slot,n_drones)\n",
    "#print(\"Customer allocation j to slot r of drone i: \")\n",
    "#print(allocation1)"
   ]
  },
  {
   "cell_type": "code",
   "execution_count": 13,
   "metadata": {
    "ExecuteTime": {
     "end_time": "2024-01-12T02:50:26.044721400Z",
     "start_time": "2024-01-12T02:50:26.001835400Z"
    }
   },
   "outputs": [],
   "source": [
    "Y = LpVariable.matrix(\"Y\", Yjkri_names, cat = \"Binary\")\n",
    "allocation2 = np.array(Y).reshape(n_demandnode,n_demandnode,n_slot,n_drones)\n",
    "#print(\"Consequtive assignment of customer j on slot r after customer k, on drone i: \")\n",
    "#print(allocation2)"
   ]
  },
  {
   "cell_type": "code",
   "execution_count": 14,
   "metadata": {
    "ExecuteTime": {
     "end_time": "2024-01-12T02:50:26.049911100Z",
     "start_time": "2024-01-12T02:50:26.018816300Z"
    }
   },
   "outputs": [],
   "source": [
    "C = LpVariable.matrix(\"C\", Cri_names, cat=\"Integer\")\n",
    "allocation3 = np.array(C).reshape(n_slot,n_drones)\n",
    "#print(\"completion time of monitoring the customer on slot r of drone i: \")\n",
    "#print(allocation3)"
   ]
  },
  {
   "cell_type": "code",
   "execution_count": 15,
   "metadata": {
    "ExecuteTime": {
     "end_time": "2024-01-12T02:50:26.064215800Z",
     "start_time": "2024-01-12T02:50:26.033027800Z"
    }
   },
   "outputs": [],
   "source": [
    "Z = LpVariable.matrix(\"Z\", Zri_names, cat=\"Binary\")\n",
    "allocation4 = np.array(Z).reshape(n_slot,n_drones)\n",
    "#print(\"Consequtive assignment of charging on slot r of drone i: \")\n",
    "#print(allocation4)"
   ]
  },
  {
   "cell_type": "code",
   "execution_count": 16,
   "metadata": {
    "tags": [],
    "ExecuteTime": {
     "end_time": "2024-01-12T02:50:26.086057800Z",
     "start_time": "2024-01-12T02:50:26.048865800Z"
    }
   },
   "outputs": [],
   "source": [
    "W = LpVariable.matrix(\"W\", Wri_names, cat=\"Integer\")\n",
    "allocation5 = np.array(W).reshape(n_slot,n_drones)\n",
    "#print(\"dummy variable for customer seved on slot r of drone i: \")\n",
    "#print(allocation5)"
   ]
  },
  {
   "cell_type": "code",
   "execution_count": 17,
   "metadata": {
    "ExecuteTime": {
     "end_time": "2024-01-12T02:50:26.109088200Z",
     "start_time": "2024-01-12T02:50:26.064215800Z"
    }
   },
   "outputs": [],
   "source": [
    "V = LpVariable.matrix(\"V\", Vjri_names, cat=\"Integer\")\n",
    "allocation6 = np.array(V).reshape(n_demandnode,n_slot,n_drones)\n",
    "#print(\"dummy variable for customer j seved on slot r of drone i: \")\n",
    "#print(allocation6)"
   ]
  },
  {
   "cell_type": "code",
   "execution_count": 18,
   "metadata": {
    "ExecuteTime": {
     "end_time": "2024-01-12T02:50:26.112632500Z",
     "start_time": "2024-01-12T02:50:26.079510100Z"
    }
   },
   "outputs": [],
   "source": [
    "Lmax= LpVariable (\"Lmax\", cat=\"Integer\", lowBound= 0)  # when calculating Lmax do not include depot!!!\n",
    "#print(Lmax)"
   ]
  },
  {
   "cell_type": "code",
   "execution_count": 19,
   "metadata": {
    "ExecuteTime": {
     "end_time": "2024-01-12T02:50:26.127537700Z",
     "start_time": "2024-01-12T02:50:26.095847600Z"
    }
   },
   "outputs": [],
   "source": [
    "#Completion = LpVariable (\"Completion\", cat=\"Continuous\")  # when calculating Lmax do not include depot!!!\n",
    "#print(Completion)"
   ]
  },
  {
   "cell_type": "code",
   "execution_count": 20,
   "metadata": {
    "ExecuteTime": {
     "end_time": "2024-01-12T02:50:26.130764Z",
     "start_time": "2024-01-12T02:50:26.110007600Z"
    }
   },
   "outputs": [
    {
     "name": "stdout",
     "output_type": "stream",
     "text": [
      "Lmax\n",
      "Parallel_machines:\n",
      "MINIMIZE\n",
      "1*Lmax + 0\n",
      "VARIABLES\n",
      "0 <= Lmax Integer\n"
     ]
    }
   ],
   "source": [
    "obj_func = Lmax #Completion\n",
    "print(obj_func)\n",
    "model +=  obj_func\n",
    "print(model)"
   ]
  },
  {
   "cell_type": "code",
   "execution_count": 21,
   "metadata": {
    "ExecuteTime": {
     "end_time": "2024-01-12T02:50:26.177313Z",
     "start_time": "2024-01-12T02:50:26.126493700Z"
    }
   },
   "outputs": [],
   "source": [
    "#Constraint objective function\n",
    "#print(Completion == lpSum(allocation3[r][i] for r in range (n_slot) for i in range (n_drones)))\n",
    "#model += Completion == lpSum(allocation3[r][i] for r in range (n_slot) for i in range (n_drones))"
   ]
  },
  {
   "cell_type": "code",
   "execution_count": 22,
   "metadata": {
    "ExecuteTime": {
     "end_time": "2024-01-12T02:50:26.198115800Z",
     "start_time": "2024-01-12T02:50:26.143918400Z"
    }
   },
   "outputs": [],
   "source": [
    "#constratint 2 : each job should happen only once \n",
    "for j in range(1, n_demandnode):\n",
    "   # print (lpSum(allocation1[j][r][i] for r in range (0, n_slot) for i in range (0, n_drones)) == 1)                \n",
    "    model += lpSum(allocation1[j][r][i] for r in range (0, n_slot) for i in range (0, n_drones)) == 1"
   ]
  },
  {
   "cell_type": "code",
   "execution_count": 23,
   "metadata": {
    "ExecuteTime": {
     "end_time": "2024-01-12T02:50:26.220876300Z",
     "start_time": "2024-01-12T02:50:26.156894400Z"
    }
   },
   "outputs": [],
   "source": [
    "#constratint 3: \n",
    "#each slot on each drone can be empty or filled with a job or going to depot\n",
    "# Later: Check being empty in the solution!!!!\n",
    "for r in range(n_slot):\n",
    "    for i in range(n_drones):\n",
    "       # print (lpSum(allocation1[j][r][i] for j in range(1,n_demandnode)) <= 1)\n",
    "        model += lpSum(allocation1[j][r][i] for j in range(1,n_demandnode)) <= 1"
   ]
  },
  {
   "cell_type": "code",
   "execution_count": 24,
   "metadata": {
    "ExecuteTime": {
     "end_time": "2024-01-12T02:50:26.226106200Z",
     "start_time": "2024-01-12T02:50:26.173010800Z"
    }
   },
   "outputs": [],
   "source": [
    "#constratint 4: only for depot X111?\n",
    "#each slot on each drone can be empty or filled with a job or going to depot\n",
    "# Later: Check being empty in the solution!!!!\n",
    "for r in range(1,n_slot):\n",
    "    for i in range(n_drones):\n",
    "       # print (allocation1[0][r][i] <= 1)\n",
    "        model += allocation1[0][r][i] <= 1"
   ]
  },
  {
   "cell_type": "code",
   "execution_count": 25,
   "metadata": {
    "ExecuteTime": {
     "end_time": "2024-01-12T02:50:26.240690600Z",
     "start_time": "2024-01-12T02:50:26.188152600Z"
    }
   },
   "outputs": [],
   "source": [
    "#constratint 5: Depot cannot happen in the first slot of each drone\n",
    "for i in range(n_drones):\n",
    "   # print (allocation1[0][0][i] == 0)\n",
    "    model += allocation1[0][0][i] == 0"
   ]
  },
  {
   "cell_type": "code",
   "execution_count": 26,
   "metadata": {
    "ExecuteTime": {
     "end_time": "2024-01-12T02:50:26.242916600Z",
     "start_time": "2024-01-12T02:50:26.205807600Z"
    }
   },
   "outputs": [
    {
     "name": "stdout",
     "output_type": "stream",
     "text": [
      "-X_111 + X_121 - X_211 + X_221 - X_311 + X_321 - X_411 + X_421 - X_511 + X_521 - X_611 + X_621 - X_711 + X_721 - X_811 + X_821 - X_911 + X_921 <= 0\n",
      "-X_112 + X_122 - X_212 + X_222 - X_312 + X_322 - X_412 + X_422 - X_512 + X_522 - X_612 + X_622 - X_712 + X_722 - X_812 + X_822 - X_912 + X_922 <= 0\n",
      "-X_121 + X_131 - X_221 + X_231 - X_321 + X_331 - X_421 + X_431 - X_521 + X_531 - X_621 + X_631 - X_721 + X_731 - X_821 + X_831 - X_921 + X_931 <= 0\n",
      "-X_122 + X_132 - X_222 + X_232 - X_322 + X_332 - X_422 + X_432 - X_522 + X_532 - X_622 + X_632 - X_722 + X_732 - X_822 + X_832 - X_922 + X_932 <= 0\n",
      "-X_131 + X_141 - X_231 + X_241 - X_331 + X_341 - X_431 + X_441 - X_531 + X_541 - X_631 + X_641 - X_731 + X_741 - X_831 + X_841 - X_931 + X_941 <= 0\n",
      "-X_132 + X_142 - X_232 + X_242 - X_332 + X_342 - X_432 + X_442 - X_532 + X_542 - X_632 + X_642 - X_732 + X_742 - X_832 + X_842 - X_932 + X_942 <= 0\n",
      "-X_141 + X_151 - X_241 + X_251 - X_341 + X_351 - X_441 + X_451 - X_541 + X_551 - X_641 + X_651 - X_741 + X_751 - X_841 + X_851 - X_941 + X_951 <= 0\n",
      "-X_142 + X_152 - X_242 + X_252 - X_342 + X_352 - X_442 + X_452 - X_542 + X_552 - X_642 + X_652 - X_742 + X_752 - X_842 + X_852 - X_942 + X_952 <= 0\n",
      "-X_151 + X_161 - X_251 + X_261 - X_351 + X_361 - X_451 + X_461 - X_551 + X_561 - X_651 + X_661 - X_751 + X_761 - X_851 + X_861 - X_951 + X_961 <= 0\n",
      "-X_152 + X_162 - X_252 + X_262 - X_352 + X_362 - X_452 + X_462 - X_552 + X_562 - X_652 + X_662 - X_752 + X_762 - X_852 + X_862 - X_952 + X_962 <= 0\n",
      "-X_161 + X_171 - X_261 + X_271 - X_361 + X_371 - X_461 + X_471 - X_561 + X_571 - X_661 + X_671 - X_761 + X_771 - X_861 + X_871 - X_961 + X_971 <= 0\n",
      "-X_162 + X_172 - X_262 + X_272 - X_362 + X_372 - X_462 + X_472 - X_562 + X_572 - X_662 + X_672 - X_762 + X_772 - X_862 + X_872 - X_962 + X_972 <= 0\n"
     ]
    }
   ],
   "source": [
    "#constratint 6: no empty slots between jobs\n",
    "for r in range(1,n_slot):\n",
    "    for i in range(n_drones):\n",
    "        print (lpSum(allocation1[j][r][i] - allocation1[j][r-1][i] for j in range(n_demandnode)) <= 0)\n",
    "        model += lpSum(allocation1[j][r][i] - allocation1[j][r-1][i] for j in range(n_demandnode)) <= 0"
   ]
  },
  {
   "cell_type": "code",
   "execution_count": 27,
   "metadata": {
    "ExecuteTime": {
     "end_time": "2024-01-12T02:50:26.297652800Z",
     "start_time": "2024-01-12T02:50:26.220876300Z"
    }
   },
   "outputs": [],
   "source": [
    "#constratint 7 : removes repeated solutions: drones are identical\n",
    "for i in range(n_drones-1):\n",
    "   # print (lpSum(allocation1[j][r][i+1] - allocation1[j][r][i] for r in range (n_slot) for j in range(n_demandnode)) <= 0)\n",
    "    model += lpSum(allocation1[j][r][i+1] - allocation1[j][r][i] for r in range (n_slot) for j in range(n_demandnode)) <= 0"
   ]
  },
  {
   "cell_type": "code",
   "execution_count": 28,
   "metadata": {
    "ExecuteTime": {
     "end_time": "2024-01-12T02:50:26.318843200Z",
     "start_time": "2024-01-12T02:50:26.236291300Z"
    }
   },
   "outputs": [],
   "source": [
    "#Traveltime_demandnodes_matrix"
   ]
  },
  {
   "cell_type": "code",
   "execution_count": 29,
   "metadata": {
    "ExecuteTime": {
     "end_time": "2024-01-12T02:50:26.319858100Z",
     "start_time": "2024-01-12T02:50:26.249488800Z"
    }
   },
   "outputs": [],
   "source": [
    "# Constraint to avoid depot at the first slot of each drone;\n",
    "#print (allocation1[0][0][0] == 0)\n",
    "#model += allocation1[0][0][0] == 0"
   ]
  },
  {
   "cell_type": "code",
   "execution_count": 30,
   "metadata": {
    "ExecuteTime": {
     "end_time": "2024-01-12T02:50:26.331866Z",
     "start_time": "2024-01-12T02:50:26.266066200Z"
    }
   },
   "outputs": [],
   "source": [
    "# Constraint to avoid depot at the first slot of each drone;\n",
    "#print (allocation1[0][0][1] == 0)\n",
    "#model += allocation1[0][0][1] == 0"
   ]
  },
  {
   "cell_type": "code",
   "execution_count": 31,
   "metadata": {
    "ExecuteTime": {
     "end_time": "2024-01-12T02:50:26.520208900Z",
     "start_time": "2024-01-12T02:50:26.281469100Z"
    }
   },
   "outputs": [],
   "source": [
    "#constratint 8 This will take care of not having depot assigned to the first spot on each drone.\n",
    "for i in range(n_drones):\n",
    "  #  print (allocation3[0][i] == lpSum((Traveltime_demandnodes_matrix[0][j] + monitor_time_matrix[j])*allocation1[j][0][i] for j in range(1,n_demandnode)))\n",
    "    model += allocation3[0][i] == lpSum((Traveltime_demandnodes_matrix[0][j]+monitor_time_matrix[j])*allocation1[j][0][i] for j in range(1,n_demandnode))"
   ]
  },
  {
   "cell_type": "code",
   "execution_count": 32,
   "metadata": {
    "ExecuteTime": {
     "end_time": "2024-01-12T02:50:26.564888100Z",
     "start_time": "2024-01-12T02:50:26.318843200Z"
    }
   },
   "outputs": [],
   "source": [
    "#constratint 9: Completion time\n",
    "for i in range(n_drones):\n",
    "    for r in range(1,n_slot):\n",
    "       # print (allocation3[r][i]== (allocation3[r-1][i])+ lpSum( Traveltime_demandnodes_matrix[k][j]*allocation2[j][k][r][i] for j in range(n_demandnode) for k in range(n_demandnode) if j is not k)+lpSum(monitor_time_matrix[j]*allocation1[j][r][i] for j in range(n_demandnode)))\n",
    "        model += allocation3[r][i]== (allocation3[r-1][i])+ lpSum( Traveltime_demandnodes_matrix[k][j]*allocation2[j][k][r][i] for j in range(n_demandnode) for k in range(n_demandnode) if j is not k)+lpSum(monitor_time_matrix[j]*allocation1[j][r][i] for j in range(n_demandnode))\n",
    "        "
   ]
  },
  {
   "cell_type": "code",
   "execution_count": 33,
   "metadata": {
    "ExecuteTime": {
     "end_time": "2024-01-12T02:50:26.584186Z",
     "start_time": "2024-01-12T02:50:26.329751800Z"
    }
   },
   "outputs": [],
   "source": [
    "#constratint 10: Defines Y\n",
    "for i in range(n_drones):\n",
    "    for j in range(n_demandnode):\n",
    "        for k in range(n_demandnode):\n",
    "            if j is not k:\n",
    "                for r in range(1,n_slot):\n",
    "                    #print (lpSum(allocation1[j][r][i]+allocation1[k][r-1][i]-1)<=allocation2[j][k][r][i])\n",
    "                    model += lpSum(allocation1[j][r][i]+allocation1[k][r-1][i]-1)<=allocation2[j][k][r][i]"
   ]
  },
  {
   "cell_type": "code",
   "execution_count": 34,
   "metadata": {
    "ExecuteTime": {
     "end_time": "2024-01-12T02:50:26.586306300Z",
     "start_time": "2024-01-12T02:50:26.361433100Z"
    }
   },
   "outputs": [],
   "source": [
    "#constratint 11: defines Y\n",
    "for i in range(n_drones):\n",
    "    for j in range(n_demandnode):\n",
    "        for k in range(n_demandnode):\n",
    "            if j is not k:\n",
    "                for r in range(1,n_slot):\n",
    "                    #print (lpSum(0.5*(allocation1[j][r][i]+allocation1[k][r-1][i])- allocation2[j][k][r][i])>=0)\n",
    "                    model += lpSum(0.5*(allocation1[j][r][i]+allocation1[k][r-1][i])- allocation2[j][k][r][i])>=0"
   ]
  },
  {
   "cell_type": "code",
   "execution_count": 35,
   "metadata": {
    "scrolled": true,
    "ExecuteTime": {
     "end_time": "2024-01-12T02:50:26.597194700Z",
     "start_time": "2024-01-12T02:50:26.391065100Z"
    }
   },
   "outputs": [],
   "source": [
    "#constratint 12:  Lmax original  -B*(1-lpSum(allocation1[j][r][i] for j in range(n_demandnode)))\n",
    "\n",
    "for r in range(n_slot):\n",
    "    for i in range(n_drones):\n",
    "       # print(Lmax>=allocation3[r][i]-lpSum(due_dates[j]*allocation1[j][r][i] for j in range(n_demandnode))-B*(1-lpSum(allocation1[j][r][i] for j in range(n_demandnode))))\n",
    "        model += Lmax>=allocation3[r][i]-lpSum(due_dates[j]*allocation1[j][r][i] for j in range(n_demandnode))-B*(1-lpSum(allocation1[j][r][i] for j in range(n_demandnode)))"
   ]
  },
  {
   "cell_type": "code",
   "execution_count": 36,
   "metadata": {
    "ExecuteTime": {
     "end_time": "2024-01-12T02:50:26.599345Z",
     "start_time": "2024-01-12T02:50:26.406443700Z"
    }
   },
   "outputs": [],
   "source": [
    "# New constarint for C\n",
    "#for r in range(n_slot):\n",
    "  #  for i in range(n_drones):\n",
    "   #     print(allocation3[r][i] <= B*lpSum(allocation1[j][r][i] for j in range(n_demandnode)))\n",
    "   #     model += allocation3[r][i] <= B*lpSum(allocation1[j][r][i] for j in range(n_demandnode))"
   ]
  },
  {
   "cell_type": "code",
   "execution_count": 37,
   "metadata": {
    "ExecuteTime": {
     "end_time": "2024-01-12T02:50:26.601539400Z",
     "start_time": "2024-01-12T02:50:26.421361500Z"
    }
   },
   "outputs": [],
   "source": [
    "# Constraint: drone should go to charging station if the completion time exceeds charge available on drone\n",
    "# Try to work with Drone_Charge    *lpSum(1+allocation4[r][i] for r in range(0,a)) \n",
    "#### Didn't read the last slot!!!\n",
    "#### shouldn't have sum over c: C31 already has c11 + c21 in it!!\n",
    "#for i in range(n_drones):\n",
    " #   for r in range(n_slot-1):\n",
    "    #    print(allocation3[r][i] - Drone_Charge*(1+lpSum(allocation4[a][i] for a in range(0,r+1))) <= B*allocation4[r+1][i])\n",
    "    #    model += allocation3[r][i] - Drone_Charge*(1+lpSum(allocation4[a][i] for a in range(0,r+1))) <= B*allocation4[r+1][i]"
   ]
  },
  {
   "cell_type": "code",
   "execution_count": 38,
   "metadata": {
    "ExecuteTime": {
     "end_time": "2024-01-12T02:50:26.779314800Z",
     "start_time": "2024-01-12T02:50:26.438640900Z"
    }
   },
   "outputs": [],
   "source": [
    "# Constraint 13\n",
    "\n",
    "# TEST Constraint: drone should go to charging station if the completion time exceeds charge available on drone\n",
    "# Try to work with Drone_Charge    *lpSum(1+allocation4[r][i] for r in range(0,a)) \n",
    "#### Didn't read the last slot!!!\n",
    "#### shouldn't have sum over c: C31 already has c11 + c21 in it!!\n",
    "for i in range(n_drones):\n",
    "        #print(allocation3[0][i] - Drone_Charge <= B*allocation4[1][i])\n",
    "        model += allocation3[0][i] - Drone_Charge <= B*allocation4[1][i]"
   ]
  },
  {
   "cell_type": "code",
   "execution_count": 39,
   "metadata": {
    "ExecuteTime": {
     "end_time": "2024-01-12T02:50:26.782459100Z",
     "start_time": "2024-01-12T02:50:26.457044Z"
    }
   },
   "outputs": [],
   "source": [
    "# Constraint 14 below!!!"
   ]
  },
  {
   "cell_type": "code",
   "execution_count": 40,
   "metadata": {
    "ExecuteTime": {
     "end_time": "2024-01-12T02:50:26.784533500Z",
     "start_time": "2024-01-12T02:50:26.469882400Z"
    }
   },
   "outputs": [],
   "source": [
    "# Constraint 15\n",
    "\n",
    "# TESt 2Constraint: drone should go to charging station if the completion time exceeds charge available on drone\n",
    "# Try to work with Drone_Charge    *lpSum(1+allocation4[r][i] for r in range(0,a)) \n",
    "#### Didn't read the last slot!!!\n",
    "#### shouldn't have sum over c: C31 already has c11 + c21 in it!!\n",
    "for i in range(n_drones):\n",
    "    for r in range(1,n_slot-1):\n",
    "        #print(allocation3[r][i] - lpSum(allocation5[b][i] for b in range(0,r)) - Drone_Charge <= B*allocation4[r+1][i])\n",
    "        model += allocation3[r][i] - lpSum(allocation5[b][i] for b in range(0,r)) - Drone_Charge <= B*allocation4[r+1][i]"
   ]
  },
  {
   "cell_type": "code",
   "execution_count": 41,
   "metadata": {
    "ExecuteTime": {
     "end_time": "2024-01-12T02:50:26.786883200Z",
     "start_time": "2024-01-12T02:50:26.485005900Z"
    }
   },
   "outputs": [],
   "source": [
    "# Constraint 16 below!!! "
   ]
  },
  {
   "cell_type": "code",
   "execution_count": 42,
   "metadata": {
    "ExecuteTime": {
     "end_time": "2024-01-12T02:50:26.898450200Z",
     "start_time": "2024-01-12T02:50:26.502066100Z"
    }
   },
   "outputs": [],
   "source": [
    "# Define W: 17\n",
    "for i in range(n_drones):\n",
    "    for r in range(2,n_slot):\n",
    "        #print(allocation5[r-1][i] >= allocation3[r-1][i] - UB*(1-allocation4[r][i]))\n",
    "        model += allocation5[r-1][i] >= allocation3[r-1][i] - UB*(1-allocation4[r][i])"
   ]
  },
  {
   "cell_type": "code",
   "execution_count": 43,
   "metadata": {
    "ExecuteTime": {
     "end_time": "2024-01-12T02:50:26.920482100Z",
     "start_time": "2024-01-12T02:50:26.520208900Z"
    }
   },
   "outputs": [],
   "source": [
    "# Define W: 18  ## we do not consider r= 7 the last slot\n",
    "for i in range(n_drones):\n",
    "    for r in range(2,n_slot):\n",
    "        #print(allocation5[r-1][i] <= allocation3[r-1][i])\n",
    "        model += allocation5[r-1][i] <= allocation3[r-1][i]\n",
    "        "
   ]
  },
  {
   "cell_type": "code",
   "execution_count": 44,
   "metadata": {
    "ExecuteTime": {
     "end_time": "2024-01-12T02:50:26.923696700Z",
     "start_time": "2024-01-12T02:50:26.532127Z"
    }
   },
   "outputs": [],
   "source": [
    "# Define W: 19\n",
    "for i in range(n_drones):\n",
    "    for r in range(2,n_slot):\n",
    "        #print(allocation5[r-1][i] <= UB*allocation4[r][i])\n",
    "        model += allocation5[r-1][i] <= UB*allocation4[r][i]\n",
    "        "
   ]
  },
  {
   "cell_type": "code",
   "execution_count": 45,
   "metadata": {
    "ExecuteTime": {
     "end_time": "2024-01-12T02:50:27.017076800Z",
     "start_time": "2024-01-12T02:50:26.546245100Z"
    }
   },
   "outputs": [],
   "source": [
    "# Define W: 20 \n",
    "\n",
    "\n",
    "#^^^^^^^^^^^^^^^^^^^^^^^^^^^^^^^^^^^^^^^^^^^^^^^^^^^^OCT25\n",
    "#for i in range(n_drones):\n",
    " #   for r in range(1,n_slot+1):\n",
    "        #print(allocation5[r-1][i] >= 0)\n",
    "  #      model += allocation5[r-1][i] >= 0\n",
    "        "
   ]
  },
  {
   "cell_type": "code",
   "execution_count": 46,
   "metadata": {
    "ExecuteTime": {
     "end_time": "2024-01-12T02:50:27.054282400Z",
     "start_time": "2024-01-12T02:50:26.562774600Z"
    }
   },
   "outputs": [],
   "source": [
    "# Define W: 21 : means that Z_(2,i) cannot be 1!!! Check if this is OK!\n",
    "# Shoul dwork even without this cause Z11 = Z21 = 0 always\n",
    "for i in range(n_drones):\n",
    "    #print(allocation5[0][i] == 0 )\n",
    "    model += allocation5[0][i] == 0"
   ]
  },
  {
   "cell_type": "code",
   "execution_count": 47,
   "metadata": {
    "ExecuteTime": {
     "end_time": "2024-01-12T02:50:27.098266800Z",
     "start_time": "2024-01-12T02:50:26.577802400Z"
    }
   },
   "outputs": [],
   "source": [
    "# Constraint 14: drone should go to charging station if the completion time exceeds charge available on drone\n",
    "# Needs two constraint to inforce Z=0 if Drone charge is still available: *lpSum(1+allocation4[r][i] for r in range(0,a))\n",
    "# Try to work with Drone_Charge\n",
    "#### Didn't read the last slot!!! @@@@@@@\n",
    "\n",
    "for i in range(n_drones):\n",
    "    #print(allocation3[0][i] - Drone_Charge  >= -B*(1-allocation4[1][i]))\n",
    "    model += allocation3[0][i] - Drone_Charge  >= -B*(1-allocation4[1][i])"
   ]
  },
  {
   "cell_type": "code",
   "execution_count": 48,
   "metadata": {
    "ExecuteTime": {
     "end_time": "2024-01-12T02:50:27.111246900Z",
     "start_time": "2024-01-12T02:50:26.596021100Z"
    }
   },
   "outputs": [],
   "source": [
    "# Constraint 16: drone should go to charging station if the completion time exceeds charge available on drone\n",
    "# Needs two constraint to inforce Z=0 if Drone charge is still available: *lpSum(1+allocation4[r][i] for r in range(0,a))\n",
    "# Try to work with Drone_Charge\n",
    "#### Didn't read the last slot!!! @@@@@@@\n",
    "\n",
    "for i in range(n_drones):\n",
    "    for r in range(1,n_slot-1):\n",
    "        #print(allocation3[r][i] - lpSum(allocation5[b][i] for b in range(0,r)) - Drone_Charge  >= -B*(1-allocation4[r+1][i]))\n",
    "        model += allocation3[r][i] - lpSum(allocation5[b][i] for b in range(0,r)) - Drone_Charge  >= -B*(1-allocation4[r+1][i])"
   ]
  },
  {
   "cell_type": "code",
   "execution_count": 49,
   "metadata": {
    "ExecuteTime": {
     "end_time": "2024-01-12T02:50:27.125405600Z",
     "start_time": "2024-01-12T02:50:26.610307900Z"
    }
   },
   "outputs": [],
   "source": [
    "# Constraint 22 connecting Z to X: X is in objective function but does it prevent Z to be 1 all the time?\n",
    "for i in range(n_drones):\n",
    "    for r in range(n_slot):\n",
    "        #print(allocation1[0][r][i] == allocation4[r][i])\n",
    "        model += allocation1[0][r][i] == allocation4[r][i]"
   ]
  },
  {
   "cell_type": "code",
   "execution_count": 50,
   "metadata": {
    "ExecuteTime": {
     "end_time": "2024-01-12T02:50:27.130404Z",
     "start_time": "2024-01-12T02:50:26.626678500Z"
    }
   },
   "outputs": [
    {
     "name": "stdout",
     "output_type": "stream",
     "text": [
      "-V_211 - V_212 - V_221 - V_222 - V_231 - V_232 - V_241 - V_242 - V_251 - V_252 - V_261 - V_262 - V_271 - V_272 + V_311 + V_312 + V_321 + V_322 + V_331 + V_332 + V_341 + V_342 + V_351 + V_352 + V_361 + V_362 + V_371 + V_372 <= 5\n",
      "-V_311 - V_312 - V_321 - V_322 - V_331 - V_332 - V_341 - V_342 - V_351 - V_352 - V_361 - V_362 - V_371 - V_372 + V_411 + V_412 + V_421 + V_422 + V_431 + V_432 + V_441 + V_442 + V_451 + V_452 + V_461 + V_462 + V_471 + V_472 <= 5\n"
     ]
    }
   ],
   "source": [
    "# Costriant 22 - 1 Continue from HEREEEEE\n",
    "#Job family 1 constraint: jobs 1,2,3,4  ---- j {2,3,4,5,6,7}\n",
    "\n",
    "for j in range(1,3):\n",
    "#for j in family1:\n",
    "    print(lpSum(allocation6[j+1][r][i] - allocation6[j][r][i] for r in range(n_slot) for i in range(n_drones)) <= intervisit_time)\n",
    "    model += lpSum(allocation6[j+1][r][i] - allocation6[j][r][i] for r in range(n_slot) for i in range(n_drones)) <= intervisit_time\n"
   ]
  },
  {
   "cell_type": "code",
   "execution_count": 51,
   "metadata": {
    "ExecuteTime": {
     "end_time": "2024-01-12T02:50:27.134403200Z",
     "start_time": "2024-01-12T02:50:26.641972600Z"
    }
   },
   "outputs": [
    {
     "name": "stdout",
     "output_type": "stream",
     "text": [
      "-V_211 - V_212 - V_221 - V_222 - V_231 - V_232 - V_241 - V_242 - V_251 - V_252 - V_261 - V_262 - V_271 - V_272 + V_311 + V_312 + V_321 + V_322 + V_331 + V_332 + V_341 + V_342 + V_351 + V_352 + V_361 + V_362 + V_371 + V_372 >= 1\n",
      "-V_311 - V_312 - V_321 - V_322 - V_331 - V_332 - V_341 - V_342 - V_351 - V_352 - V_361 - V_362 - V_371 - V_372 + V_411 + V_412 + V_421 + V_422 + V_431 + V_432 + V_441 + V_442 + V_451 + V_452 + V_461 + V_462 + V_471 + V_472 >= 1\n"
     ]
    }
   ],
   "source": [
    "# Costriant 23 -1\n",
    "\n",
    "#Job family 1 constraint: jobs 1,2,3,4 non negative\n",
    "for j in range(1,3):\n",
    "    print(lpSum(allocation6[j+1][r][i] - allocation6[j][r][i] for r in range(n_slot) for i in range(n_drones)) >= 1)\n",
    "    model += lpSum(allocation6[j+1][r][i] - allocation6[j][r][i] for r in range(n_slot) for i in range(n_drones)) >= 1\n"
   ]
  },
  {
   "cell_type": "code",
   "execution_count": 52,
   "metadata": {
    "ExecuteTime": {
     "end_time": "2024-01-12T02:50:27.138503900Z",
     "start_time": "2024-01-12T02:50:26.657337400Z"
    }
   },
   "outputs": [
    {
     "name": "stdout",
     "output_type": "stream",
     "text": [
      "-V_511 - V_512 - V_521 - V_522 - V_531 - V_532 - V_541 - V_542 - V_551 - V_552 - V_561 - V_562 - V_571 - V_572 + V_611 + V_612 + V_621 + V_622 + V_631 + V_632 + V_641 + V_642 + V_651 + V_652 + V_661 + V_662 + V_671 + V_672 <= 5\n",
      "-V_611 - V_612 - V_621 - V_622 - V_631 - V_632 - V_641 - V_642 - V_651 - V_652 - V_661 - V_662 - V_671 - V_672 + V_711 + V_712 + V_721 + V_722 + V_731 + V_732 + V_741 + V_742 + V_751 + V_752 + V_761 + V_762 + V_771 + V_772 <= 5\n"
     ]
    }
   ],
   "source": [
    "# Costriant 22 - 2\n",
    "\n",
    "#Job family 2 constraint: jobs 5,6,7\n",
    "for j in range(4,6):\n",
    "    print(lpSum(allocation6[j+1][r][i] - allocation6[j][r][i] for r in range(n_slot) for i in range(n_drones)) <= intervisit_time)\n",
    "    model += lpSum(allocation6[j+1][r][i] - allocation6[j][r][i] for r in range(n_slot) for i in range(n_drones)) <= intervisit_time\n"
   ]
  },
  {
   "cell_type": "code",
   "execution_count": 53,
   "metadata": {
    "ExecuteTime": {
     "end_time": "2024-01-12T02:50:27.150530400Z",
     "start_time": "2024-01-12T02:50:26.672419700Z"
    }
   },
   "outputs": [
    {
     "name": "stdout",
     "output_type": "stream",
     "text": [
      "-V_511 - V_512 - V_521 - V_522 - V_531 - V_532 - V_541 - V_542 - V_551 - V_552 - V_561 - V_562 - V_571 - V_572 + V_611 + V_612 + V_621 + V_622 + V_631 + V_632 + V_641 + V_642 + V_651 + V_652 + V_661 + V_662 + V_671 + V_672 >= 1\n",
      "-V_611 - V_612 - V_621 - V_622 - V_631 - V_632 - V_641 - V_642 - V_651 - V_652 - V_661 - V_662 - V_671 - V_672 + V_711 + V_712 + V_721 + V_722 + V_731 + V_732 + V_741 + V_742 + V_751 + V_752 + V_761 + V_762 + V_771 + V_772 >= 1\n"
     ]
    }
   ],
   "source": [
    "# Costriant 23 -2\n",
    "\n",
    "#Job family 2 constraint: jobs 5,6,7 non negative\n",
    "for j in range(4,6):\n",
    "    print(lpSum(allocation6[j+1][r][i] - allocation6[j][r][i] for r in range(n_slot) for i in range(n_drones)) >= 1)\n",
    "    model += lpSum(allocation6[j+1][r][i] - allocation6[j][r][i] for r in range(n_slot) for i in range(n_drones)) >= 1\n"
   ]
  },
  {
   "cell_type": "code",
   "execution_count": 54,
   "metadata": {
    "tags": [],
    "ExecuteTime": {
     "end_time": "2024-01-12T02:50:27.153532200Z",
     "start_time": "2024-01-12T02:50:26.685206800Z"
    }
   },
   "outputs": [
    {
     "name": "stdout",
     "output_type": "stream",
     "text": [
      "-V_811 - V_812 - V_821 - V_822 - V_831 - V_832 - V_841 - V_842 - V_851 - V_852 - V_861 - V_862 - V_871 - V_872 + V_911 + V_912 + V_921 + V_922 + V_931 + V_932 + V_941 + V_942 + V_951 + V_952 + V_961 + V_962 + V_971 + V_972 <= 5\n"
     ]
    }
   ],
   "source": [
    "# Costriant 22 - 3\n",
    "#Job family 3 constraint: jobs 1,2,3,4  ---- j {2,3,4,5,6,7}\n",
    "\n",
    "for j in range(7,8):\n",
    "#for j in family1:\n",
    "    print(lpSum(allocation6[j+1][r][i] - allocation6[j][r][i] for r in range(n_slot) for i in range(n_drones)) <= intervisit_time)\n",
    "    model += lpSum(allocation6[j+1][r][i] - allocation6[j][r][i] for r in range(n_slot) for i in range(n_drones)) <= intervisit_time"
   ]
  },
  {
   "cell_type": "code",
   "execution_count": 55,
   "metadata": {
    "tags": [],
    "ExecuteTime": {
     "end_time": "2024-01-12T02:50:27.157571Z",
     "start_time": "2024-01-12T02:50:26.703630500Z"
    }
   },
   "outputs": [
    {
     "name": "stdout",
     "output_type": "stream",
     "text": [
      "-V_811 - V_812 - V_821 - V_822 - V_831 - V_832 - V_841 - V_842 - V_851 - V_852 - V_861 - V_862 - V_871 - V_872 + V_911 + V_912 + V_921 + V_922 + V_931 + V_932 + V_941 + V_942 + V_951 + V_952 + V_961 + V_962 + V_971 + V_972 >= 1\n"
     ]
    }
   ],
   "source": [
    "# Costriant 23 -3\n",
    "\n",
    "#Job family 3 constraint: jobs 5,6,7 non negative\n",
    "for j in range(7,8):\n",
    "    print(lpSum(allocation6[j+1][r][i] - allocation6[j][r][i] for r in range(n_slot) for i in range(n_drones)) >= 1)\n",
    "    model += lpSum(allocation6[j+1][r][i] - allocation6[j][r][i] for r in range(n_slot) for i in range(n_drones)) >= 1"
   ]
  },
  {
   "cell_type": "code",
   "execution_count": 56,
   "metadata": {
    "ExecuteTime": {
     "end_time": "2024-01-12T02:50:27.160550200Z",
     "start_time": "2024-01-12T02:50:26.728146300Z"
    }
   },
   "outputs": [],
   "source": [
    "#Job family constraint: #Dummy 1\n",
    "for j in range(n_demandnode):\n",
    "    for r in range(n_slot):\n",
    "        for i in range(n_drones):\n",
    "            #print(allocation6[j][r][i] <= UB * allocation1[j][r][i])\n",
    "            model += allocation6[j][r][i] <= UB * allocation1[j][r][i]"
   ]
  },
  {
   "cell_type": "code",
   "execution_count": 57,
   "metadata": {
    "ExecuteTime": {
     "end_time": "2024-01-12T02:50:27.175532100Z",
     "start_time": "2024-01-12T02:50:26.734866Z"
    }
   },
   "outputs": [],
   "source": [
    "#Job family constraint: #Dummy 2\n",
    "for j in range(n_demandnode):\n",
    "    for r in range(n_slot):\n",
    "        for i in range(n_drones):\n",
    "            #print(allocation6[j][r][i] <= allocation3[r][i])\n",
    "            model += allocation6[j][r][i] <= allocation3[r][i]"
   ]
  },
  {
   "cell_type": "code",
   "execution_count": 58,
   "metadata": {
    "ExecuteTime": {
     "end_time": "2024-01-12T02:50:27.179532300Z",
     "start_time": "2024-01-12T02:50:26.750009700Z"
    }
   },
   "outputs": [],
   "source": [
    "#Job family constraint: #Dummy 3\n",
    "for j in range(n_demandnode):\n",
    "    for r in range(n_slot):\n",
    "        for i in range(n_drones):\n",
    "            #print(allocation6[j][r][i] >= allocation3[r][i] - UB *(1-allocation1[j][r][i]))\n",
    "            model += allocation6[j][r][i] >= allocation3[r][i] - UB *(1-allocation1[j][r][i])"
   ]
  },
  {
   "cell_type": "code",
   "execution_count": 59,
   "metadata": {
    "ExecuteTime": {
     "end_time": "2024-01-12T02:50:27.206700100Z",
     "start_time": "2024-01-12T02:50:26.782459100Z"
    }
   },
   "outputs": [],
   "source": [
    "#Job family constraint: #Dummy 4\n",
    "for j in range(n_demandnode):\n",
    "    for r in range(n_slot):\n",
    "        for i in range(n_drones):\n",
    "            #print(allocation6[j][r][i] >= 0)\n",
    "            model += allocation6[j][r][i] >= 0"
   ]
  },
  {
   "cell_type": "code",
   "execution_count": 60,
   "metadata": {
    "ExecuteTime": {
     "end_time": "2024-01-12T02:50:27.209704500Z",
     "start_time": "2024-01-12T02:50:26.793308300Z"
    }
   },
   "outputs": [
    {
     "name": "stdout",
     "output_type": "stream",
     "text": [
      "10000*X_211 + X_321 <= 10000\n",
      "10000*X_212 + X_322 <= 10000\n",
      "10000*X_221 + X_331 <= 10000\n",
      "10000*X_222 + X_332 <= 10000\n",
      "10000*X_231 + X_341 <= 10000\n",
      "10000*X_232 + X_342 <= 10000\n",
      "10000*X_241 + X_351 <= 10000\n",
      "10000*X_242 + X_352 <= 10000\n",
      "10000*X_251 + X_361 <= 10000\n",
      "10000*X_252 + X_362 <= 10000\n",
      "10000*X_261 + X_371 <= 10000\n",
      "10000*X_262 + X_372 <= 10000\n",
      "10000*X_311 + X_421 <= 10000\n",
      "10000*X_312 + X_422 <= 10000\n",
      "10000*X_321 + X_431 <= 10000\n",
      "10000*X_322 + X_432 <= 10000\n",
      "10000*X_331 + X_441 <= 10000\n",
      "10000*X_332 + X_442 <= 10000\n",
      "10000*X_341 + X_451 <= 10000\n",
      "10000*X_342 + X_452 <= 10000\n",
      "10000*X_351 + X_461 <= 10000\n",
      "10000*X_352 + X_462 <= 10000\n",
      "10000*X_361 + X_471 <= 10000\n",
      "10000*X_362 + X_472 <= 10000\n"
     ]
    }
   ],
   "source": [
    "# Job family 1: Break sequence of the same family 2,4,3,...   @@@@@@@@@@@@@@@@@@@@@@@@@ Correct constraint structure\n",
    "for j in range(1,3):\n",
    "    for r in range(n_slot-1):\n",
    "        for i in range(n_drones):\n",
    "            print(allocation1[j+1][r+1][i] <= B*(1-allocation1[j][r][i] ))\n",
    "            model += allocation1[j+1][r+1][i]  <= B*(1-allocation1[j][r][i])"
   ]
  },
  {
   "cell_type": "code",
   "execution_count": 61,
   "metadata": {
    "ExecuteTime": {
     "end_time": "2024-01-12T02:50:27.225423300Z",
     "start_time": "2024-01-12T02:50:26.808003Z"
    }
   },
   "outputs": [
    {
     "name": "stdout",
     "output_type": "stream",
     "text": [
      "10000*X_511 + X_621 <= 10000\n",
      "10000*X_512 + X_622 <= 10000\n",
      "10000*X_521 + X_631 <= 10000\n",
      "10000*X_522 + X_632 <= 10000\n",
      "10000*X_531 + X_641 <= 10000\n",
      "10000*X_532 + X_642 <= 10000\n",
      "10000*X_541 + X_651 <= 10000\n",
      "10000*X_542 + X_652 <= 10000\n",
      "10000*X_551 + X_661 <= 10000\n",
      "10000*X_552 + X_662 <= 10000\n",
      "10000*X_561 + X_671 <= 10000\n",
      "10000*X_562 + X_672 <= 10000\n",
      "10000*X_611 + X_721 <= 10000\n",
      "10000*X_612 + X_722 <= 10000\n",
      "10000*X_621 + X_731 <= 10000\n",
      "10000*X_622 + X_732 <= 10000\n",
      "10000*X_631 + X_741 <= 10000\n",
      "10000*X_632 + X_742 <= 10000\n",
      "10000*X_641 + X_751 <= 10000\n",
      "10000*X_642 + X_752 <= 10000\n",
      "10000*X_651 + X_761 <= 10000\n",
      "10000*X_652 + X_762 <= 10000\n",
      "10000*X_661 + X_771 <= 10000\n",
      "10000*X_662 + X_772 <= 10000\n"
     ]
    }
   ],
   "source": [
    "# Job family 2: Break sequence of the same family 2,4,3,... @@@@@@@@@@@@@@@@@@@@@@@@@ Correct constraint structure\n",
    "for j in range(4,6):\n",
    "    for r in range(n_slot-1):\n",
    "        for i in range(n_drones):\n",
    "            print(allocation1[j+1][r+1][i]  <= B*(1-allocation1[j][r][i]))\n",
    "            model += allocation1[j+1][r+1][i]  <= B*(1-allocation1[j][r][i] )"
   ]
  },
  {
   "cell_type": "code",
   "execution_count": 62,
   "metadata": {
    "tags": [],
    "ExecuteTime": {
     "end_time": "2024-01-12T02:50:27.228421500Z",
     "start_time": "2024-01-12T02:50:26.825669800Z"
    }
   },
   "outputs": [
    {
     "name": "stdout",
     "output_type": "stream",
     "text": [
      "10000*X_811 + X_921 <= 10000\n",
      "10000*X_812 + X_922 <= 10000\n",
      "10000*X_821 + X_931 <= 10000\n",
      "10000*X_822 + X_932 <= 10000\n",
      "10000*X_831 + X_941 <= 10000\n",
      "10000*X_832 + X_942 <= 10000\n",
      "10000*X_841 + X_951 <= 10000\n",
      "10000*X_842 + X_952 <= 10000\n",
      "10000*X_851 + X_961 <= 10000\n",
      "10000*X_852 + X_962 <= 10000\n",
      "10000*X_861 + X_971 <= 10000\n",
      "10000*X_862 + X_972 <= 10000\n"
     ]
    }
   ],
   "source": [
    "# Job family 3: Break sequence of the same family 2,4,3,... @@@@@@@@@@@@@@@@@@@@@@@@@ Correct constraint structure\n",
    "for j in range(7,8):\n",
    "    for r in range(n_slot-1):\n",
    "        for i in range(n_drones):\n",
    "            print(allocation1[j+1][r+1][i]  <= B*(1-allocation1[j][r][i]))\n",
    "            model += allocation1[j+1][r+1][i]  <= B*(1-allocation1[j][r][i] )"
   ]
  },
  {
   "cell_type": "code",
   "execution_count": 63,
   "metadata": {
    "ExecuteTime": {
     "end_time": "2024-01-12T02:50:27.232416600Z",
     "start_time": "2024-01-12T02:50:26.838707400Z"
    }
   },
   "outputs": [],
   "source": [
    "# Limit the operational time of each drone to 24 hours: @@@@@@@@@@@@@@@@@@@@@@@@@ We can use it for larger problems. \n",
    "#for i in range(n_drones):\n",
    " #   print(lpSum(allocation6[j][r][i] for j in range(n_demandnode) for r in range(n_slot)) <= 24)\n",
    "  #  model += lpSum(allocation6[j][r][i] for j in range(n_demandnode) for r in range(n_slot)) <= 24"
   ]
  },
  {
   "cell_type": "code",
   "execution_count": 64,
   "metadata": {
    "ExecuteTime": {
     "end_time": "2024-01-12T02:50:27.250436400Z",
     "start_time": "2024-01-12T02:50:26.873936200Z"
    }
   },
   "outputs": [
    {
     "name": "stdout",
     "output_type": "stream",
     "text": [
      "Set parameter Username\n",
      "Academic license - for non-commercial use only - expires 2024-11-29\n",
      "['GLPK_CMD', 'GUROBI_CMD', 'PULP_CBC_CMD']\n"
     ]
    },
    {
     "name": "stderr",
     "output_type": "stream",
     "text": [
      "C:\\Users\\otoragay\\AppData\\Local\\miniconda3\\envs\\AMenv\\lib\\site-packages\\pulp\\apis\\gurobi_api.py:170: UserWarning: GUROBI error: Unknown parameter '_test'.\n",
      "  warnings.warn(\"GUROBI error: {}.\".format(e))\n"
     ]
    }
   ],
   "source": [
    "# Following two lines list available solvers \n",
    "# and we use the threads option to use multiple cores\n",
    "\n",
    "print(listSolvers(onlyAvailable=True))\n",
    "\n",
    "cbc_solver = PULP_CBC_CMD(threads=64) # change thereads=4 to the number you need "
   ]
  },
  {
   "cell_type": "code",
   "execution_count": null,
   "metadata": {
    "scrolled": true,
    "tags": [],
    "is_executing": true,
    "ExecuteTime": {
     "start_time": "2024-01-12T02:50:26.923696700Z"
    }
   },
   "outputs": [],
   "source": [
    "%%time\n",
    "\n",
    "#model.solve()\n",
    "#model.solve(PULP_CBC_CMD())\n",
    "model.solve(cbc_solver)\n",
    "\n",
    "status =  LpStatus[model.status]\n",
    "\n",
    "print(status)\n",
    "\n"
   ]
  }
 ],
 "metadata": {
  "kernelspec": {
   "display_name": "Python 3 (ipykernel)",
   "language": "python",
   "name": "python3"
  },
  "language_info": {
   "codemirror_mode": {
    "name": "ipython",
    "version": 3
   },
   "file_extension": ".py",
   "mimetype": "text/x-python",
   "name": "python",
   "nbconvert_exporter": "python",
   "pygments_lexer": "ipython3",
   "version": "3.11.5"
  }
 },
 "nbformat": 4,
 "nbformat_minor": 4
}
