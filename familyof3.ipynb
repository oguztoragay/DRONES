{
 "cells": [
  {
   "cell_type": "code",
   "execution_count": null,
   "metadata": {},
   "outputs": [],
   "source": [
    "# Add % to work within conda environment\n",
    "%pip install pulp\n",
    "%conda install --yes numpy pandas seaborn"
   ]
  },
  {
   "cell_type": "markdown",
   "metadata": {},
   "source": [
    "Youngsu: After installing the packages, be sure to restart your kernel by pressing the circular icon above.\n",
    "---"
   ]
  },
  {
   "cell_type": "code",
   "execution_count": null,
   "metadata": {},
   "outputs": [],
   "source": [
    "from pulp import *\n",
    "import numpy as np\n",
    "import pandas as pd \n",
    "import seaborn as sns"
   ]
  },
  {
   "cell_type": "code",
   "execution_count": null,
   "metadata": {},
   "outputs": [],
   "source": [
    "n_demandnode = 9 # plus depot = 6  Max visit numbers for each location:\n",
    "family0 = 1\n",
    "family1 = np.array([2,3,4])\n",
    "family2 = np.array([5,6,7])\n",
    "family3 = np.array([8,9])\n",
    "\n",
    "#n_chargingstation = 1\n",
    "n_drones = 2\n",
    "n_slot = 7 ############ 7 before\n",
    "monitor_time_matrix = np.array([3, 2, 2, 2, 1, 1, 1, 1, 1]) #Pj #[2, 1, 2, 3, 4, 5, 5]\n",
    "Traveltime_demandnodes_matrix = np.array([[0,3,3,3,4,4,4,1,1 ],[3,0,0,0,1,1,1,2,2],[3,0,0,0,1,1,1,2,2],[3,0,0,0,1,1,1,2,2],[4,1,1,1,0,0,0,3,3],[4,1,1,1,0,0,0,3,3],[4,1,1,1,0,0,0,3,3],[1,2,2,2,3,3,3,0,0],[1,2,2,2,3,3,3,0,0]]) #Sjk\n",
    "#max_intervisit_time_matrix = np.array([24, 5, 5, 5, 5]) #depot due date should be a large number.\n",
    "B = 10000\n",
    "#UB = 24 # upper bound of dj for Z\n",
    "#LB = 0 # lower bound of dj for Z\n",
    "due_dates = np.array([0, 24, 24, 24, 24, 24, 24, 5, 10]) #dj\n",
    "Drone_Charge = 7 #8 before\n",
    "UB = 1000 # upper bound of C \n",
    "intervisit_time = 5 # 5 before MAX\n",
    "# Try to keep the scale of Traveltime_demandnodes_matrix and intervisit_time compatable! \n",
    "# if drone visits a location at time 1 it should visit the same location by the time 6 at least once. check! YES"
   ]
  },
  {
   "cell_type": "code",
   "execution_count": null,
   "metadata": {},
   "outputs": [],
   "source": [
    "for i in family1:\n",
    "    print(i)"
   ]
  },
  {
   "cell_type": "code",
   "execution_count": null,
   "metadata": {},
   "outputs": [],
   "source": [
    "model = LpProblem(\"Parallel machines\",LpMinimize)"
   ]
  },
  {
   "cell_type": "code",
   "execution_count": null,
   "metadata": {},
   "outputs": [],
   "source": [
    "Xjri_names = [str(j)+str(r)+str(i) for j in range(1, n_demandnode+1) for r in range (1, n_slot+1) for i in range (1, n_drones+1)]\n",
    "#if customer j is assigned to the r slot of the drone i\n",
    "#print(\"Xjri Indices:\", Xjri_names)"
   ]
  },
  {
   "cell_type": "code",
   "execution_count": null,
   "metadata": {},
   "outputs": [],
   "source": [
    "Yjkri_names = [str(j)+str(k)+str(r)+str(i) for j in range(1, n_demandnode+1) for k in range (1, n_demandnode+1) for r in range (1, n_slot+1) for i in range (1, n_drones+1)]\n",
    "# if customer j is assigned to the r slot and customer k is assigned to r-1 slot of drone i\n",
    "#print(\"Yjkri Indices:\", Yjkri_names)"
   ]
  },
  {
   "cell_type": "code",
   "execution_count": null,
   "metadata": {},
   "outputs": [],
   "source": [
    "Cri_names = [str(r)+str(i) for r in range (1, n_slot+1) for i in range (1, n_drones+1)]\n",
    "#The Completion time of the monitoring customer on the r slot of the drone i\n",
    "#print(\"Cri Indices:\", Cri_names)"
   ]
  },
  {
   "cell_type": "code",
   "execution_count": null,
   "metadata": {},
   "outputs": [],
   "source": [
    "Zri_names = [str(r)+str(i) for r in range (1, n_slot+1) for i in range (1, n_drones+1)]\n",
    "#The Completion time of the monitoring customer on the r slot of the drone i\n",
    "#print(\"Zri Indices:\", Zri_names)"
   ]
  },
  {
   "cell_type": "code",
   "execution_count": null,
   "metadata": {},
   "outputs": [],
   "source": [
    "Wri_names = [str(r)+str(i) for r in range (1, n_slot+1) for i in range (1, n_drones+1)]\n",
    "#The Completion time of the monitoring customer on the r slot of the drone i\n",
    "#print(\"Zri Indices:\", Zri_names)"
   ]
  },
  {
   "cell_type": "code",
   "execution_count": null,
   "metadata": {},
   "outputs": [],
   "source": [
    "Vjri_names = [str(j)+str(r)+str(i) for j in range(1, n_demandnode+1) for r in range (1, n_slot+1) for i in range (1, n_drones+1)]\n",
    "# Replacement for CriXjri\n",
    "#print(\"Vjri Indices:\", Vjri_names)"
   ]
  },
  {
   "cell_type": "code",
   "execution_count": null,
   "metadata": {},
   "outputs": [],
   "source": [
    "X = LpVariable.matrix(\"X\", Xjri_names, cat = \"Binary\")\n",
    "allocation1 = np.array(X).reshape(n_demandnode,n_slot,n_drones)\n",
    "#print(\"Customer allocation j to slot r of drone i: \")\n",
    "#print(allocation1)"
   ]
  },
  {
   "cell_type": "code",
   "execution_count": null,
   "metadata": {},
   "outputs": [],
   "source": [
    "Y = LpVariable.matrix(\"Y\", Yjkri_names, cat = \"Binary\")\n",
    "allocation2 = np.array(Y).reshape(n_demandnode,n_demandnode,n_slot,n_drones)\n",
    "#print(\"Consequtive assignment of customer j on slot r after customer k, on drone i: \")\n",
    "#print(allocation2)"
   ]
  },
  {
   "cell_type": "code",
   "execution_count": null,
   "metadata": {},
   "outputs": [],
   "source": [
    "C = LpVariable.matrix(\"C\", Cri_names, cat=\"Integer\")\n",
    "allocation3 = np.array(C).reshape(n_slot,n_drones)\n",
    "#print(\"completion time of monitoring the customer on slot r of drone i: \")\n",
    "#print(allocation3)"
   ]
  },
  {
   "cell_type": "code",
   "execution_count": null,
   "metadata": {},
   "outputs": [],
   "source": [
    "Z = LpVariable.matrix(\"Z\", Zri_names, cat=\"Binary\")\n",
    "allocation4 = np.array(Z).reshape(n_slot,n_drones)\n",
    "#print(\"Consequtive assignment of charging on slot r of drone i: \")\n",
    "#print(allocation4)"
   ]
  },
  {
   "cell_type": "code",
   "execution_count": null,
   "metadata": {
    "tags": []
   },
   "outputs": [],
   "source": [
    "W = LpVariable.matrix(\"W\", Wri_names, cat=\"Integer\")\n",
    "allocation5 = np.array(W).reshape(n_slot,n_drones)\n",
    "#print(\"dummy variable for customer seved on slot r of drone i: \")\n",
    "#print(allocation5)"
   ]
  },
  {
   "cell_type": "code",
   "execution_count": null,
   "metadata": {},
   "outputs": [],
   "source": [
    "V = LpVariable.matrix(\"V\", Vjri_names, cat=\"Integer\")\n",
    "allocation6 = np.array(V).reshape(n_demandnode,n_slot,n_drones)\n",
    "#print(\"dummy variable for customer j seved on slot r of drone i: \")\n",
    "#print(allocation6)"
   ]
  },
  {
   "cell_type": "code",
   "execution_count": null,
   "metadata": {},
   "outputs": [],
   "source": [
    "Lmax= LpVariable (\"Lmax\", cat=\"Integer\", lowBound= 0)  # when calculating Lmax do not include depot!!!\n",
    "#print(Lmax)"
   ]
  },
  {
   "cell_type": "code",
   "execution_count": null,
   "metadata": {},
   "outputs": [],
   "source": [
    "#Completion = LpVariable (\"Completion\", cat=\"Continuous\")  # when calculating Lmax do not include depot!!!\n",
    "#print(Completion)"
   ]
  },
  {
   "cell_type": "code",
   "execution_count": null,
   "metadata": {},
   "outputs": [],
   "source": [
    "obj_func = Lmax #Completion\n",
    "print(obj_func)\n",
    "model +=  obj_func\n",
    "print(model)"
   ]
  },
  {
   "cell_type": "code",
   "execution_count": null,
   "metadata": {},
   "outputs": [],
   "source": [
    "#Constraint objective function\n",
    "#print(Completion == lpSum(allocation3[r][i] for r in range (n_slot) for i in range (n_drones)))\n",
    "#model += Completion == lpSum(allocation3[r][i] for r in range (n_slot) for i in range (n_drones))"
   ]
  },
  {
   "cell_type": "code",
   "execution_count": null,
   "metadata": {},
   "outputs": [],
   "source": [
    "#constratint 2 : each job should happen only once \n",
    "for j in range(1, n_demandnode):\n",
    "   # print (lpSum(allocation1[j][r][i] for r in range (0, n_slot) for i in range (0, n_drones)) == 1)                \n",
    "    model += lpSum(allocation1[j][r][i] for r in range (0, n_slot) for i in range (0, n_drones)) == 1"
   ]
  },
  {
   "cell_type": "code",
   "execution_count": null,
   "metadata": {},
   "outputs": [],
   "source": [
    "#constratint 3: \n",
    "#each slot on each drone can be empty or filled with a job or going to depot\n",
    "# Later: Check being empty in the solution!!!!\n",
    "for r in range(n_slot):\n",
    "    for i in range(n_drones):\n",
    "       # print (lpSum(allocation1[j][r][i] for j in range(1,n_demandnode)) <= 1)\n",
    "        model += lpSum(allocation1[j][r][i] for j in range(1,n_demandnode)) <= 1"
   ]
  },
  {
   "cell_type": "code",
   "execution_count": null,
   "metadata": {},
   "outputs": [],
   "source": [
    "#constratint 4: only for depot X111?\n",
    "#each slot on each drone can be empty or filled with a job or going to depot\n",
    "# Later: Check being empty in the solution!!!!\n",
    "for r in range(1,n_slot):\n",
    "    for i in range(n_drones):\n",
    "       # print (allocation1[0][r][i] <= 1)\n",
    "        model += allocation1[0][r][i] <= 1"
   ]
  },
  {
   "cell_type": "code",
   "execution_count": null,
   "metadata": {},
   "outputs": [],
   "source": [
    "#constratint 5: Depot cannot happen in the first slot of each drone\n",
    "for i in range(n_drones):\n",
    "   # print (allocation1[0][0][i] == 0)\n",
    "    model += allocation1[0][0][i] == 0"
   ]
  },
  {
   "cell_type": "code",
   "execution_count": null,
   "metadata": {},
   "outputs": [],
   "source": [
    "#constratint 6: no empty slots between jobs\n",
    "for r in range(1,n_slot):\n",
    "    for i in range(n_drones):\n",
    "        print (lpSum(allocation1[j][r][i] - allocation1[j][r-1][i] for j in range(n_demandnode)) <= 0)\n",
    "        model += lpSum(allocation1[j][r][i] - allocation1[j][r-1][i] for j in range(n_demandnode)) <= 0"
   ]
  },
  {
   "cell_type": "code",
   "execution_count": null,
   "metadata": {},
   "outputs": [],
   "source": [
    "#constratint 7 : removes repeated solutions: drones are identical\n",
    "for i in range(n_drones-1):\n",
    "   # print (lpSum(allocation1[j][r][i+1] - allocation1[j][r][i] for r in range (n_slot) for j in range(n_demandnode)) <= 0)\n",
    "    model += lpSum(allocation1[j][r][i+1] - allocation1[j][r][i] for r in range (n_slot) for j in range(n_demandnode)) <= 0"
   ]
  },
  {
   "cell_type": "code",
   "execution_count": null,
   "metadata": {},
   "outputs": [],
   "source": [
    "#Traveltime_demandnodes_matrix"
   ]
  },
  {
   "cell_type": "code",
   "execution_count": null,
   "metadata": {},
   "outputs": [],
   "source": [
    "# Constraint to avoid depot at the first slot of each drone;\n",
    "#print (allocation1[0][0][0] == 0)\n",
    "#model += allocation1[0][0][0] == 0"
   ]
  },
  {
   "cell_type": "code",
   "execution_count": null,
   "metadata": {},
   "outputs": [],
   "source": [
    "# Constraint to avoid depot at the first slot of each drone;\n",
    "#print (allocation1[0][0][1] == 0)\n",
    "#model += allocation1[0][0][1] == 0"
   ]
  },
  {
   "cell_type": "code",
   "execution_count": null,
   "metadata": {},
   "outputs": [],
   "source": [
    "#constratint 8 This will take care of not having depot assigned to the first spot on each drone.\n",
    "for i in range(n_drones):\n",
    "  #  print (allocation3[0][i] == lpSum((Traveltime_demandnodes_matrix[0][j] + monitor_time_matrix[j])*allocation1[j][0][i] for j in range(1,n_demandnode)))\n",
    "    model += allocation3[0][i] == lpSum((Traveltime_demandnodes_matrix[0][j]+monitor_time_matrix[j])*allocation1[j][0][i] for j in range(1,n_demandnode))"
   ]
  },
  {
   "cell_type": "code",
   "execution_count": null,
   "metadata": {},
   "outputs": [],
   "source": [
    "#constratint 9: Completion time\n",
    "for i in range(n_drones):\n",
    "    for r in range(1,n_slot):\n",
    "       # print (allocation3[r][i]== (allocation3[r-1][i])+ lpSum( Traveltime_demandnodes_matrix[k][j]*allocation2[j][k][r][i] for j in range(n_demandnode) for k in range(n_demandnode) if j is not k)+lpSum(monitor_time_matrix[j]*allocation1[j][r][i] for j in range(n_demandnode)))\n",
    "        model += allocation3[r][i]== (allocation3[r-1][i])+ lpSum( Traveltime_demandnodes_matrix[k][j]*allocation2[j][k][r][i] for j in range(n_demandnode) for k in range(n_demandnode) if j is not k)+lpSum(monitor_time_matrix[j]*allocation1[j][r][i] for j in range(n_demandnode))\n",
    "        "
   ]
  },
  {
   "cell_type": "code",
   "execution_count": null,
   "metadata": {},
   "outputs": [],
   "source": [
    "#constratint 10: Defines Y\n",
    "for i in range(n_drones):\n",
    "    for j in range(n_demandnode):\n",
    "        for k in range(n_demandnode):\n",
    "            if j is not k:\n",
    "                for r in range(1,n_slot):\n",
    "                    #print (lpSum(allocation1[j][r][i]+allocation1[k][r-1][i]-1)<=allocation2[j][k][r][i])\n",
    "                    model += lpSum(allocation1[j][r][i]+allocation1[k][r-1][i]-1)<=allocation2[j][k][r][i]"
   ]
  },
  {
   "cell_type": "code",
   "execution_count": null,
   "metadata": {},
   "outputs": [],
   "source": [
    "#constratint 11: defines Y\n",
    "for i in range(n_drones):\n",
    "    for j in range(n_demandnode):\n",
    "        for k in range(n_demandnode):\n",
    "            if j is not k:\n",
    "                for r in range(1,n_slot):\n",
    "                    #print (lpSum(0.5*(allocation1[j][r][i]+allocation1[k][r-1][i])- allocation2[j][k][r][i])>=0)\n",
    "                    model += lpSum(0.5*(allocation1[j][r][i]+allocation1[k][r-1][i])- allocation2[j][k][r][i])>=0"
   ]
  },
  {
   "cell_type": "code",
   "execution_count": null,
   "metadata": {
    "scrolled": true
   },
   "outputs": [],
   "source": [
    "#constratint 12:  Lmax original  -B*(1-lpSum(allocation1[j][r][i] for j in range(n_demandnode)))\n",
    "\n",
    "for r in range(n_slot):\n",
    "    for i in range(n_drones):\n",
    "       # print(Lmax>=allocation3[r][i]-lpSum(due_dates[j]*allocation1[j][r][i] for j in range(n_demandnode))-B*(1-lpSum(allocation1[j][r][i] for j in range(n_demandnode))))\n",
    "        model += Lmax>=allocation3[r][i]-lpSum(due_dates[j]*allocation1[j][r][i] for j in range(n_demandnode))-B*(1-lpSum(allocation1[j][r][i] for j in range(n_demandnode)))"
   ]
  },
  {
   "cell_type": "code",
   "execution_count": null,
   "metadata": {},
   "outputs": [],
   "source": [
    "# New constarint for C\n",
    "#for r in range(n_slot):\n",
    "  #  for i in range(n_drones):\n",
    "   #     print(allocation3[r][i] <= B*lpSum(allocation1[j][r][i] for j in range(n_demandnode)))\n",
    "   #     model += allocation3[r][i] <= B*lpSum(allocation1[j][r][i] for j in range(n_demandnode))"
   ]
  },
  {
   "cell_type": "code",
   "execution_count": null,
   "metadata": {},
   "outputs": [],
   "source": [
    "# Constraint: drone should go to charging station if the completion time exceeds charge available on drone\n",
    "# Try to work with Drone_Charge    *lpSum(1+allocation4[r][i] for r in range(0,a)) \n",
    "#### Didn't read the last slot!!!\n",
    "#### shouldn't have sum over c: C31 already has c11 + c21 in it!!\n",
    "#for i in range(n_drones):\n",
    " #   for r in range(n_slot-1):\n",
    "    #    print(allocation3[r][i] - Drone_Charge*(1+lpSum(allocation4[a][i] for a in range(0,r+1))) <= B*allocation4[r+1][i])\n",
    "    #    model += allocation3[r][i] - Drone_Charge*(1+lpSum(allocation4[a][i] for a in range(0,r+1))) <= B*allocation4[r+1][i]"
   ]
  },
  {
   "cell_type": "code",
   "execution_count": null,
   "metadata": {},
   "outputs": [],
   "source": [
    "# Constraint 13\n",
    "\n",
    "# TEST Constraint: drone should go to charging station if the completion time exceeds charge available on drone\n",
    "# Try to work with Drone_Charge    *lpSum(1+allocation4[r][i] for r in range(0,a)) \n",
    "#### Didn't read the last slot!!!\n",
    "#### shouldn't have sum over c: C31 already has c11 + c21 in it!!\n",
    "for i in range(n_drones):\n",
    "        #print(allocation3[0][i] - Drone_Charge <= B*allocation4[1][i])\n",
    "        model += allocation3[0][i] - Drone_Charge <= B*allocation4[1][i]"
   ]
  },
  {
   "cell_type": "code",
   "execution_count": null,
   "metadata": {},
   "outputs": [],
   "source": [
    "# Constraint 14 below!!!"
   ]
  },
  {
   "cell_type": "code",
   "execution_count": null,
   "metadata": {},
   "outputs": [],
   "source": [
    "# Constraint 15\n",
    "\n",
    "# TESt 2Constraint: drone should go to charging station if the completion time exceeds charge available on drone\n",
    "# Try to work with Drone_Charge    *lpSum(1+allocation4[r][i] for r in range(0,a)) \n",
    "#### Didn't read the last slot!!!\n",
    "#### shouldn't have sum over c: C31 already has c11 + c21 in it!!\n",
    "for i in range(n_drones):\n",
    "    for r in range(1,n_slot-1):\n",
    "        #print(allocation3[r][i] - lpSum(allocation5[b][i] for b in range(0,r)) - Drone_Charge <= B*allocation4[r+1][i])\n",
    "        model += allocation3[r][i] - lpSum(allocation5[b][i] for b in range(0,r)) - Drone_Charge <= B*allocation4[r+1][i]"
   ]
  },
  {
   "cell_type": "code",
   "execution_count": null,
   "metadata": {},
   "outputs": [],
   "source": [
    "# Constraint 16 below!!! "
   ]
  },
  {
   "cell_type": "code",
   "execution_count": null,
   "metadata": {},
   "outputs": [],
   "source": [
    "# Define W: 17\n",
    "for i in range(n_drones):\n",
    "    for r in range(2,n_slot):\n",
    "        #print(allocation5[r-1][i] >= allocation3[r-1][i] - UB*(1-allocation4[r][i]))\n",
    "        model += allocation5[r-1][i] >= allocation3[r-1][i] - UB*(1-allocation4[r][i])"
   ]
  },
  {
   "cell_type": "code",
   "execution_count": null,
   "metadata": {},
   "outputs": [],
   "source": [
    "# Define W: 18  ## we do not consider r= 7 the last slot\n",
    "for i in range(n_drones):\n",
    "    for r in range(2,n_slot):\n",
    "        #print(allocation5[r-1][i] <= allocation3[r-1][i])\n",
    "        model += allocation5[r-1][i] <= allocation3[r-1][i]\n",
    "        "
   ]
  },
  {
   "cell_type": "code",
   "execution_count": null,
   "metadata": {},
   "outputs": [],
   "source": [
    "# Define W: 19\n",
    "for i in range(n_drones):\n",
    "    for r in range(2,n_slot):\n",
    "        #print(allocation5[r-1][i] <= UB*allocation4[r][i])\n",
    "        model += allocation5[r-1][i] <= UB*allocation4[r][i]\n",
    "        "
   ]
  },
  {
   "cell_type": "code",
   "execution_count": null,
   "metadata": {},
   "outputs": [],
   "source": [
    "# Define W: 20 \n",
    "\n",
    "\n",
    "#^^^^^^^^^^^^^^^^^^^^^^^^^^^^^^^^^^^^^^^^^^^^^^^^^^^^OCT25\n",
    "#for i in range(n_drones):\n",
    " #   for r in range(1,n_slot+1):\n",
    "        #print(allocation5[r-1][i] >= 0)\n",
    "  #      model += allocation5[r-1][i] >= 0\n",
    "        "
   ]
  },
  {
   "cell_type": "code",
   "execution_count": null,
   "metadata": {},
   "outputs": [],
   "source": [
    "# Define W: 21 : means that Z_(2,i) cannot be 1!!! Check if this is OK!\n",
    "# Shoul dwork even without this cause Z11 = Z21 = 0 always\n",
    "for i in range(n_drones):\n",
    "    #print(allocation5[0][i] == 0 )\n",
    "    model += allocation5[0][i] == 0"
   ]
  },
  {
   "cell_type": "code",
   "execution_count": null,
   "metadata": {},
   "outputs": [],
   "source": [
    "# Constraint 14: drone should go to charging station if the completion time exceeds charge available on drone\n",
    "# Needs two constraint to inforce Z=0 if Drone charge is still available: *lpSum(1+allocation4[r][i] for r in range(0,a))\n",
    "# Try to work with Drone_Charge\n",
    "#### Didn't read the last slot!!! @@@@@@@\n",
    "\n",
    "for i in range(n_drones):\n",
    "    #print(allocation3[0][i] - Drone_Charge  >= -B*(1-allocation4[1][i]))\n",
    "    model += allocation3[0][i] - Drone_Charge  >= -B*(1-allocation4[1][i])"
   ]
  },
  {
   "cell_type": "code",
   "execution_count": null,
   "metadata": {},
   "outputs": [],
   "source": [
    "# Constraint 16: drone should go to charging station if the completion time exceeds charge available on drone\n",
    "# Needs two constraint to inforce Z=0 if Drone charge is still available: *lpSum(1+allocation4[r][i] for r in range(0,a))\n",
    "# Try to work with Drone_Charge\n",
    "#### Didn't read the last slot!!! @@@@@@@\n",
    "\n",
    "for i in range(n_drones):\n",
    "    for r in range(1,n_slot-1):\n",
    "        #print(allocation3[r][i] - lpSum(allocation5[b][i] for b in range(0,r)) - Drone_Charge  >= -B*(1-allocation4[r+1][i]))\n",
    "        model += allocation3[r][i] - lpSum(allocation5[b][i] for b in range(0,r)) - Drone_Charge  >= -B*(1-allocation4[r+1][i])"
   ]
  },
  {
   "cell_type": "code",
   "execution_count": null,
   "metadata": {},
   "outputs": [],
   "source": [
    "# Constraint 22 connecting Z to X: X is in objective function but does it prevent Z to be 1 all the time?\n",
    "for i in range(n_drones):\n",
    "    for r in range(n_slot):\n",
    "        #print(allocation1[0][r][i] == allocation4[r][i])\n",
    "        model += allocation1[0][r][i] == allocation4[r][i]"
   ]
  },
  {
   "cell_type": "code",
   "execution_count": null,
   "metadata": {},
   "outputs": [],
   "source": [
    "# Costriant 22 - 1 Continue from HEREEEEE\n",
    "#Job family 1 constraint: jobs 1,2,3,4  ---- j {2,3,4,5,6,7}\n",
    "\n",
    "for j in range(1,3):\n",
    "#for j in family1:\n",
    "    print(lpSum(allocation6[j+1][r][i] - allocation6[j][r][i] for r in range(n_slot) for i in range(n_drones)) <= intervisit_time)\n",
    "    model += lpSum(allocation6[j+1][r][i] - allocation6[j][r][i] for r in range(n_slot) for i in range(n_drones)) <= intervisit_time\n"
   ]
  },
  {
   "cell_type": "code",
   "execution_count": null,
   "metadata": {},
   "outputs": [],
   "source": [
    "# Costriant 23 -1\n",
    "\n",
    "#Job family 1 constraint: jobs 1,2,3,4 non negative\n",
    "for j in range(1,3):\n",
    "    print(lpSum(allocation6[j+1][r][i] - allocation6[j][r][i] for r in range(n_slot) for i in range(n_drones)) >= 1)\n",
    "    model += lpSum(allocation6[j+1][r][i] - allocation6[j][r][i] for r in range(n_slot) for i in range(n_drones)) >= 1\n"
   ]
  },
  {
   "cell_type": "code",
   "execution_count": null,
   "metadata": {},
   "outputs": [],
   "source": [
    "# Costriant 22 - 2\n",
    "\n",
    "#Job family 2 constraint: jobs 5,6,7\n",
    "for j in range(4,6):\n",
    "    print(lpSum(allocation6[j+1][r][i] - allocation6[j][r][i] for r in range(n_slot) for i in range(n_drones)) <= intervisit_time)\n",
    "    model += lpSum(allocation6[j+1][r][i] - allocation6[j][r][i] for r in range(n_slot) for i in range(n_drones)) <= intervisit_time\n"
   ]
  },
  {
   "cell_type": "code",
   "execution_count": null,
   "metadata": {},
   "outputs": [],
   "source": [
    "# Costriant 23 -2\n",
    "\n",
    "#Job family 2 constraint: jobs 5,6,7 non negative\n",
    "for j in range(4,6):\n",
    "    print(lpSum(allocation6[j+1][r][i] - allocation6[j][r][i] for r in range(n_slot) for i in range(n_drones)) >= 1)\n",
    "    model += lpSum(allocation6[j+1][r][i] - allocation6[j][r][i] for r in range(n_slot) for i in range(n_drones)) >= 1\n"
   ]
  },
  {
   "cell_type": "code",
   "execution_count": null,
   "metadata": {
    "tags": []
   },
   "outputs": [],
   "source": [
    "# Costriant 22 - 3\n",
    "#Job family 3 constraint: jobs 1,2,3,4  ---- j {2,3,4,5,6,7}\n",
    "\n",
    "for j in range(7,8):\n",
    "#for j in family1:\n",
    "    print(lpSum(allocation6[j+1][r][i] - allocation6[j][r][i] for r in range(n_slot) for i in range(n_drones)) <= intervisit_time)\n",
    "    model += lpSum(allocation6[j+1][r][i] - allocation6[j][r][i] for r in range(n_slot) for i in range(n_drones)) <= intervisit_time"
   ]
  },
  {
   "cell_type": "code",
   "execution_count": null,
   "metadata": {
    "tags": []
   },
   "outputs": [],
   "source": [
    "# Costriant 23 -3\n",
    "\n",
    "#Job family 3 constraint: jobs 5,6,7 non negative\n",
    "for j in range(7,8):\n",
    "    print(lpSum(allocation6[j+1][r][i] - allocation6[j][r][i] for r in range(n_slot) for i in range(n_drones)) >= 1)\n",
    "    model += lpSum(allocation6[j+1][r][i] - allocation6[j][r][i] for r in range(n_slot) for i in range(n_drones)) >= 1"
   ]
  },
  {
   "cell_type": "code",
   "execution_count": null,
   "metadata": {},
   "outputs": [],
   "source": [
    "#Job family constraint: #Dummy 1\n",
    "for j in range(n_demandnode):\n",
    "    for r in range(n_slot):\n",
    "        for i in range(n_drones):\n",
    "            #print(allocation6[j][r][i] <= UB * allocation1[j][r][i])\n",
    "            model += allocation6[j][r][i] <= UB * allocation1[j][r][i]"
   ]
  },
  {
   "cell_type": "code",
   "execution_count": null,
   "metadata": {},
   "outputs": [],
   "source": [
    "#Job family constraint: #Dummy 2\n",
    "for j in range(n_demandnode):\n",
    "    for r in range(n_slot):\n",
    "        for i in range(n_drones):\n",
    "            #print(allocation6[j][r][i] <= allocation3[r][i])\n",
    "            model += allocation6[j][r][i] <= allocation3[r][i]"
   ]
  },
  {
   "cell_type": "code",
   "execution_count": null,
   "metadata": {},
   "outputs": [],
   "source": [
    "#Job family constraint: #Dummy 3\n",
    "for j in range(n_demandnode):\n",
    "    for r in range(n_slot):\n",
    "        for i in range(n_drones):\n",
    "            #print(allocation6[j][r][i] >= allocation3[r][i] - UB *(1-allocation1[j][r][i]))\n",
    "            model += allocation6[j][r][i] >= allocation3[r][i] - UB *(1-allocation1[j][r][i])"
   ]
  },
  {
   "cell_type": "code",
   "execution_count": null,
   "metadata": {},
   "outputs": [],
   "source": [
    "#Job family constraint: #Dummy 4\n",
    "for j in range(n_demandnode):\n",
    "    for r in range(n_slot):\n",
    "        for i in range(n_drones):\n",
    "            #print(allocation6[j][r][i] >= 0)\n",
    "            model += allocation6[j][r][i] >= 0"
   ]
  },
  {
   "cell_type": "code",
   "execution_count": null,
   "metadata": {},
   "outputs": [],
   "source": [
    "# Job family 1: Break sequence of the same family 2,4,3,...   @@@@@@@@@@@@@@@@@@@@@@@@@ Correct constraint structure\n",
    "for j in range(1,3):\n",
    "    for r in range(n_slot-1):\n",
    "        for i in range(n_drones):\n",
    "            print(allocation1[j+1][r+1][i] <= B*(1-allocation1[j][r][i] ))\n",
    "            model += allocation1[j+1][r+1][i]  <= B*(1-allocation1[j][r][i])"
   ]
  },
  {
   "cell_type": "code",
   "execution_count": null,
   "metadata": {},
   "outputs": [],
   "source": [
    "# Job family 2: Break sequence of the same family 2,4,3,... @@@@@@@@@@@@@@@@@@@@@@@@@ Correct constraint structure\n",
    "for j in range(4,6):\n",
    "    for r in range(n_slot-1):\n",
    "        for i in range(n_drones):\n",
    "            print(allocation1[j+1][r+1][i]  <= B*(1-allocation1[j][r][i]))\n",
    "            model += allocation1[j+1][r+1][i]  <= B*(1-allocation1[j][r][i] )"
   ]
  },
  {
   "cell_type": "code",
   "execution_count": null,
   "metadata": {
    "tags": []
   },
   "outputs": [],
   "source": [
    "# Job family 3: Break sequence of the same family 2,4,3,... @@@@@@@@@@@@@@@@@@@@@@@@@ Correct constraint structure\n",
    "for j in range(7,8):\n",
    "    for r in range(n_slot-1):\n",
    "        for i in range(n_drones):\n",
    "            print(allocation1[j+1][r+1][i]  <= B*(1-allocation1[j][r][i]))\n",
    "            model += allocation1[j+1][r+1][i]  <= B*(1-allocation1[j][r][i] )"
   ]
  },
  {
   "cell_type": "code",
   "execution_count": null,
   "metadata": {},
   "outputs": [],
   "source": [
    "# Limit the operational time of each drone to 24 hours: @@@@@@@@@@@@@@@@@@@@@@@@@ We can use it for larger problems. \n",
    "#for i in range(n_drones):\n",
    " #   print(lpSum(allocation6[j][r][i] for j in range(n_demandnode) for r in range(n_slot)) <= 24)\n",
    "  #  model += lpSum(allocation6[j][r][i] for j in range(n_demandnode) for r in range(n_slot)) <= 24"
   ]
  },
  {
   "cell_type": "code",
   "execution_count": null,
   "metadata": {},
   "outputs": [],
   "source": [
    "# Following two lines list available solvers \n",
    "# and we use the threads option to use multiple cores\n",
    "\n",
    "print(listSolvers(onlyAvailable=True))\n",
    "\n",
    "cbc_solver = PULP_CBC_CMD(threads=64) # change thereads=4 to the number you need "
   ]
  },
  {
   "cell_type": "code",
   "execution_count": null,
   "metadata": {
    "scrolled": true,
    "tags": []
   },
   "outputs": [],
   "source": [
    "%%time\n",
    "\n",
    "#model.solve()\n",
    "#model.solve(PULP_CBC_CMD())\n",
    "model.solve(cbc_solver)\n",
    "\n",
    "status =  LpStatus[model.status]\n",
    "\n",
    "print(status)\n",
    "\n",
    "solver.wall_time()\n"
   ]
  },
  {
   "cell_type": "code",
   "execution_count": null,
   "metadata": {},
   "outputs": [],
   "source": [
    "#import pulp as pl\n",
    "#solver_list = pl.listSolvers(onlyAvailable=True)\n",
    "#solver = pl.getSolver('CPLEX_CMD')\n",
    "#solver = pl.getSolver('GUROBI')"
   ]
  },
  {
   "cell_type": "code",
   "execution_count": null,
   "metadata": {},
   "outputs": [],
   "source": [
    "print(\"Total Cost:\", model.objective.value())\n",
    "\n",
    "# Decision Variables\n",
    "\n",
    "for v in model.variables():\n",
    "    try:\n",
    "        print(v.name,\"=\", v.value())\n",
    "    except:\n",
    "        print(\"error couldnt find value\")\n"
   ]
  },
  {
   "cell_type": "code",
   "execution_count": null,
   "metadata": {},
   "outputs": [],
   "source": []
  },
  {
   "cell_type": "code",
   "execution_count": null,
   "metadata": {
    "scrolled": true
   },
   "outputs": [],
   "source": []
  },
  {
   "cell_type": "code",
   "execution_count": null,
   "metadata": {},
   "outputs": [],
   "source": []
  }
 ],
 "metadata": {
  "kernelspec": {
   "display_name": "Python 3 (ipykernel)",
   "language": "python",
   "name": "python3"
  },
  "language_info": {
   "codemirror_mode": {
    "name": "ipython",
    "version": 3
   },
   "file_extension": ".py",
   "mimetype": "text/x-python",
   "name": "python",
   "nbconvert_exporter": "python",
   "pygments_lexer": "ipython3",
   "version": "3.11.5"
  }
 },
 "nbformat": 4,
 "nbformat_minor": 4
}
